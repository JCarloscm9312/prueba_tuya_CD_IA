{
 "cells": [
  {
   "cell_type": "code",
   "execution_count": 6,
   "metadata": {},
   "outputs": [],
   "source": [
    "import os\n",
    "import re\n",
    "import pandas as pd\n",
    "from tqdm import tqdm\n",
    "\n",
    "# Configuración\n",
    "DATA_DIR = \"../data/01_raw/\"\n",
    "OUTPUT_FILE = \"../data/02_processed/clean_texts.csv\"\n",
    "CHUNK_SIZE = 500  # Tamaño de fragmentos de texto"
   ]
  },
  {
   "cell_type": "code",
   "execution_count": 7,
   "metadata": {},
   "outputs": [],
   "source": [
    "def clean_text(text):\n",
    "    \"\"\"Realiza una limpieza básica del texto sin tokenización ni lematización.\"\"\"\n",
    "    text = text.lower()  # Convertir a minúsculas\n",
    "    text = re.sub(r'[^\\w\\s.,!?;:]', '', text)  # Eliminar caracteres especiales excepto puntuación básica\n",
    "    text = re.sub(r'\\s+', ' ', text).strip()  # Remover espacios múltiples\n",
    "    return text"
   ]
  },
  {
   "cell_type": "code",
   "execution_count": 8,
   "metadata": {},
   "outputs": [],
   "source": [
    "def chunk_text(text, chunk_size=CHUNK_SIZE):\n",
    "    \"\"\"Divide el texto en fragmentos de tamaño específico respetando las palabras completas.\"\"\"\n",
    "    words = text.split()  # Dividir el texto en palabras\n",
    "    chunks = []\n",
    "    current_chunk = []\n",
    "    current_length = 0\n",
    "    \n",
    "    for word in words:\n",
    "        if current_length + len(word) + 1 > chunk_size:  # +1 para el espacio entre palabras\n",
    "            chunks.append(\" \".join(current_chunk))\n",
    "            current_chunk = []\n",
    "            current_length = 0\n",
    "        \n",
    "        current_chunk.append(word)\n",
    "        current_length += len(word) + 1  # Considerar el espacio\n",
    "    \n",
    "    if current_chunk:  # Agregar el último fragmento si quedó texto\n",
    "        chunks.append(\" \".join(current_chunk))\n",
    "    \n",
    "    return chunks"
   ]
  },
  {
   "cell_type": "code",
   "execution_count": 9,
   "metadata": {},
   "outputs": [],
   "source": [
    "def process_text_files(directory):\n",
    "    \"\"\"Carga y preprocesa todos los archivos TXT en un directorio.\"\"\"\n",
    "    data = []\n",
    "    \n",
    "    for filename in tqdm(os.listdir(directory)):\n",
    "        if filename.endswith(\".txt\"):\n",
    "            file_path = os.path.join(directory, filename)\n",
    "            with open(file_path, \"r\", encoding=\"utf-8\") as f:\n",
    "                raw_text = f.read()\n",
    "                cleaned_text = clean_text(raw_text)\n",
    "                chunks = chunk_text(cleaned_text)\n",
    "                for idx, chunk in enumerate(chunks):\n",
    "                    data.append({\"filename\": filename, \"chunk_id\": idx, \"clean_text\": chunk})\n",
    "    \n",
    "    return pd.DataFrame(data)"
   ]
  },
  {
   "cell_type": "code",
   "execution_count": 10,
   "metadata": {},
   "outputs": [
    {
     "name": "stderr",
     "output_type": "stream",
     "text": [
      "  0%|          | 0/6 [00:00<?, ?it/s]"
     ]
    },
    {
     "name": "stderr",
     "output_type": "stream",
     "text": [
      "100%|██████████| 6/6 [00:00<00:00, 56.86it/s]\n"
     ]
    }
   ],
   "source": [
    "# Ejecutar procesamiento\n",
    "df = process_text_files(DATA_DIR)"
   ]
  },
  {
   "cell_type": "code",
   "execution_count": 11,
   "metadata": {},
   "outputs": [
    {
     "data": {
      "text/html": [
       "<div>\n",
       "<style scoped>\n",
       "    .dataframe tbody tr th:only-of-type {\n",
       "        vertical-align: middle;\n",
       "    }\n",
       "\n",
       "    .dataframe tbody tr th {\n",
       "        vertical-align: top;\n",
       "    }\n",
       "\n",
       "    .dataframe thead th {\n",
       "        text-align: right;\n",
       "    }\n",
       "</style>\n",
       "<table border=\"1\" class=\"dataframe\">\n",
       "  <thead>\n",
       "    <tr style=\"text-align: right;\">\n",
       "      <th></th>\n",
       "      <th>filename</th>\n",
       "      <th>chunk_id</th>\n",
       "      <th>clean_text</th>\n",
       "    </tr>\n",
       "  </thead>\n",
       "  <tbody>\n",
       "    <tr>\n",
       "      <th>0</th>\n",
       "      <td>activacion-tarjeta.txt</td>\n",
       "      <td>0</td>\n",
       "      <td>únicamente puedes activar aquí en la aplicació...</td>\n",
       "    </tr>\n",
       "    <tr>\n",
       "      <th>1</th>\n",
       "      <td>como-pago-mi-tarjeta-o-credicompras.txt</td>\n",
       "      <td>0</td>\n",
       "      <td>cómo pago mi tarjeta o credicompras? paga en e...</td>\n",
       "    </tr>\n",
       "    <tr>\n",
       "      <th>2</th>\n",
       "      <td>como-pago-mi-tarjeta-o-credicompras.txt</td>\n",
       "      <td>1</td>\n",
       "      <td>ahorros o corriente bancolombia al débito auto...</td>\n",
       "    </tr>\n",
       "    <tr>\n",
       "      <th>3</th>\n",
       "      <td>como-pago-mi-tarjeta-o-credicompras.txt</td>\n",
       "      <td>2</td>\n",
       "      <td>bancoomeva banco colpatria banco superior ten ...</td>\n",
       "    </tr>\n",
       "    <tr>\n",
       "      <th>4</th>\n",
       "      <td>como-pago-mi-tarjeta-o-credicompras.txt</td>\n",
       "      <td>3</td>\n",
       "      <td>a discapacitados nuestros aliados derechos y o...</td>\n",
       "    </tr>\n",
       "    <tr>\n",
       "      <th>...</th>\n",
       "      <td>...</td>\n",
       "      <td>...</td>\n",
       "      <td>...</td>\n",
       "    </tr>\n",
       "    <tr>\n",
       "      <th>63</th>\n",
       "      <td>tarjetas-de-credito.txt</td>\n",
       "      <td>23</td>\n",
       "      <td>productos que tenemos disponibles en nuestros ...</td>\n",
       "    </tr>\n",
       "    <tr>\n",
       "      <th>64</th>\n",
       "      <td>tarjetas-de-credito.txt</td>\n",
       "      <td>24</td>\n",
       "      <td>tarjeta no se encuentra disponible desde el 20...</td>\n",
       "    </tr>\n",
       "    <tr>\n",
       "      <th>65</th>\n",
       "      <td>tarjetas-de-credito.txt</td>\n",
       "      <td>25</td>\n",
       "      <td>mastercard black disfruta el privilegio de ser...</td>\n",
       "    </tr>\n",
       "    <tr>\n",
       "      <th>66</th>\n",
       "      <td>tarjetas-de-credito.txt</td>\n",
       "      <td>26</td>\n",
       "      <td>aerolínea viva. esta tarjeta no se encuentra d...</td>\n",
       "    </tr>\n",
       "    <tr>\n",
       "      <th>67</th>\n",
       "      <td>tarjetas-de-credito.txt</td>\n",
       "      <td>27</td>\n",
       "      <td>tarjeta de crédito claro pay mastercard a raíz...</td>\n",
       "    </tr>\n",
       "  </tbody>\n",
       "</table>\n",
       "<p>68 rows × 3 columns</p>\n",
       "</div>"
      ],
      "text/plain": [
       "                                   filename  chunk_id  \\\n",
       "0                    activacion-tarjeta.txt         0   \n",
       "1   como-pago-mi-tarjeta-o-credicompras.txt         0   \n",
       "2   como-pago-mi-tarjeta-o-credicompras.txt         1   \n",
       "3   como-pago-mi-tarjeta-o-credicompras.txt         2   \n",
       "4   como-pago-mi-tarjeta-o-credicompras.txt         3   \n",
       "..                                      ...       ...   \n",
       "63                  tarjetas-de-credito.txt        23   \n",
       "64                  tarjetas-de-credito.txt        24   \n",
       "65                  tarjetas-de-credito.txt        25   \n",
       "66                  tarjetas-de-credito.txt        26   \n",
       "67                  tarjetas-de-credito.txt        27   \n",
       "\n",
       "                                           clean_text  \n",
       "0   únicamente puedes activar aquí en la aplicació...  \n",
       "1   cómo pago mi tarjeta o credicompras? paga en e...  \n",
       "2   ahorros o corriente bancolombia al débito auto...  \n",
       "3   bancoomeva banco colpatria banco superior ten ...  \n",
       "4   a discapacitados nuestros aliados derechos y o...  \n",
       "..                                                ...  \n",
       "63  productos que tenemos disponibles en nuestros ...  \n",
       "64  tarjeta no se encuentra disponible desde el 20...  \n",
       "65  mastercard black disfruta el privilegio de ser...  \n",
       "66  aerolínea viva. esta tarjeta no se encuentra d...  \n",
       "67  tarjeta de crédito claro pay mastercard a raíz...  \n",
       "\n",
       "[68 rows x 3 columns]"
      ]
     },
     "execution_count": 11,
     "metadata": {},
     "output_type": "execute_result"
    }
   ],
   "source": [
    "df"
   ]
  },
  {
   "cell_type": "code",
   "execution_count": 13,
   "metadata": {},
   "outputs": [
    {
     "name": "stdout",
     "output_type": "stream",
     "text": [
      "Datos preprocesados guardados en ../data/02_processed/clean_texts.csv\n"
     ]
    }
   ],
   "source": [
    "# Guardar en CSV\n",
    "df.to_csv(OUTPUT_FILE, index=False)\n",
    "print(f\"Datos preprocesados guardados en {OUTPUT_FILE}\")"
   ]
  },
  {
   "cell_type": "code",
   "execution_count": null,
   "metadata": {},
   "outputs": [],
   "source": []
  }
 ],
 "metadata": {
  "kernelspec": {
   "display_name": "Python 3",
   "language": "python",
   "name": "python3"
  },
  "language_info": {
   "codemirror_mode": {
    "name": "ipython",
    "version": 3
   },
   "file_extension": ".py",
   "mimetype": "text/x-python",
   "name": "python",
   "nbconvert_exporter": "python",
   "pygments_lexer": "ipython3",
   "version": "3.12.3"
  }
 },
 "nbformat": 4,
 "nbformat_minor": 2
}
